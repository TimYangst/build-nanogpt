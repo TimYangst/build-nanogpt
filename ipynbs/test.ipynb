{
 "cells": [
  {
   "cell_type": "code",
   "execution_count": 3,
   "id": "2274f70a",
   "metadata": {},
   "outputs": [
    {
     "name": "stdout",
     "output_type": "stream",
     "text": [
      "torch.return_types.max(\n",
      "values=tensor([3, 6]),\n",
      "indices=tensor([2, 2]))\n",
      "tensor([3, 6])\n",
      "torch.return_types.max(\n",
      "values=tensor([[3],\n",
      "        [6]]),\n",
      "indices=tensor([[2],\n",
      "        [2]]))\n",
      "tensor([[3],\n",
      "        [6]])\n"
     ]
    }
   ],
   "source": [
    "import torch\n",
    "\n",
    "x = torch.tensor([[1, 2, 3],\n",
    "                  [4, 5, 6]])\n",
    "\n",
    "max_val = x.max(dim=1)   # 默认 keepdim=False\n",
    "print(max_val)\n",
    "print(max_val.values)\n",
    "\n",
    "\n",
    "max_val = x.max(dim=1, keepdim=True)\n",
    "print(max_val)\n",
    "print(max_val.values)"
   ]
  },
  {
   "cell_type": "code",
   "execution_count": 6,
   "id": "996564ca",
   "metadata": {},
   "outputs": [
    {
     "name": "stdout",
     "output_type": "stream",
     "text": [
      "tensor([[1., 2., 3.]])\n",
      "tensor([3.])\n",
      "tensor([[-2., -1.,  0.]])\n"
     ]
    }
   ],
   "source": [
    "x = torch.tensor([[1., 2., 3.]])\n",
    "print(x)       # ok\n",
    "  # -> tensor(3.)  shape []\n",
    "print(x.max(dim=-1).values)       # ok\n",
    "  \n",
    "print(x - 3.)       # ok"
   ]
  }
 ],
 "metadata": {
  "kernelspec": {
   "display_name": "build-nanogpt",
   "language": "python",
   "name": "python3"
  },
  "language_info": {
   "codemirror_mode": {
    "name": "ipython",
    "version": 3
   },
   "file_extension": ".py",
   "mimetype": "text/x-python",
   "name": "python",
   "nbconvert_exporter": "python",
   "pygments_lexer": "ipython3",
   "version": "3.12.3"
  }
 },
 "nbformat": 4,
 "nbformat_minor": 5
}
